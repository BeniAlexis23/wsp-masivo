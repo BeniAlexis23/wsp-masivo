{
 "cells": [
  {
   "cell_type": "code",
   "execution_count": 1,
   "metadata": {},
   "outputs": [],
   "source": [
    "#!pip install pandas\n",
    "#!pip install openpyxl\n",
    "#!pip install webbrowser\n",
    "#!pip install pyautogui"
   ]
  },
  {
   "cell_type": "code",
   "execution_count": 2,
   "metadata": {},
   "outputs": [],
   "source": [
    "import pandas as pd\n",
    "import webbrowser as web\n",
    "import pyautogui as pg\n",
    "import time"
   ]
  },
  {
   "cell_type": "code",
   "execution_count": 3,
   "metadata": {},
   "outputs": [
    {
     "data": {
      "text/html": [
       "<div>\n",
       "<style scoped>\n",
       "    .dataframe tbody tr th:only-of-type {\n",
       "        vertical-align: middle;\n",
       "    }\n",
       "\n",
       "    .dataframe tbody tr th {\n",
       "        vertical-align: top;\n",
       "    }\n",
       "\n",
       "    .dataframe thead th {\n",
       "        text-align: right;\n",
       "    }\n",
       "</style>\n",
       "<table border=\"1\" class=\"dataframe\">\n",
       "  <thead>\n",
       "    <tr style=\"text-align: right;\">\n",
       "      <th></th>\n",
       "      <th>Cliente</th>\n",
       "      <th>Nombre</th>\n",
       "      <th>Celular</th>\n",
       "      <th>Producto</th>\n",
       "    </tr>\n",
       "  </thead>\n",
       "  <tbody>\n",
       "    <tr>\n",
       "      <th>0</th>\n",
       "      <td>Arguedas Villa Jennifer</td>\n",
       "      <td>Arguedas Villa Jennifer</td>\n",
       "      <td>51961084556</td>\n",
       "      <td>Por encargo del Dr. Wagner Vicente, Coordinado...</td>\n",
       "    </tr>\n",
       "    <tr>\n",
       "      <th>1</th>\n",
       "      <td>BARRIOS LAZARO VERONICA EDITH</td>\n",
       "      <td>BARRIOS LAZARO VERONICA EDITH</td>\n",
       "      <td>51926104071</td>\n",
       "      <td>Por encargo del Dr. Wagner Vicente, Coordinado...</td>\n",
       "    </tr>\n",
       "    <tr>\n",
       "      <th>2</th>\n",
       "      <td>BENAVENTE PADILLA MARILENNY</td>\n",
       "      <td>BENAVENTE PADILLA MARILENNY</td>\n",
       "      <td>51987424313</td>\n",
       "      <td>Por encargo del Dr. Wagner Vicente, Coordinado...</td>\n",
       "    </tr>\n",
       "  </tbody>\n",
       "</table>\n",
       "</div>"
      ],
      "text/plain": [
       "                         Cliente                         Nombre      Celular  \\\n",
       "0        Arguedas Villa Jennifer        Arguedas Villa Jennifer  51961084556   \n",
       "1  BARRIOS LAZARO VERONICA EDITH  BARRIOS LAZARO VERONICA EDITH  51926104071   \n",
       "2    BENAVENTE PADILLA MARILENNY    BENAVENTE PADILLA MARILENNY  51987424313   \n",
       "\n",
       "                                            Producto  \n",
       "0  Por encargo del Dr. Wagner Vicente, Coordinado...  \n",
       "1  Por encargo del Dr. Wagner Vicente, Coordinado...  \n",
       "2  Por encargo del Dr. Wagner Vicente, Coordinado...  "
      ]
     },
     "execution_count": 3,
     "metadata": {},
     "output_type": "execute_result"
    }
   ],
   "source": [
    "data = pd.read_excel(\"Clientes.xlsx\", sheet_name='Ventas')\n",
    "data.head(3)"
   ]
  },
  {
   "cell_type": "code",
   "execution_count": 4,
   "metadata": {},
   "outputs": [],
   "source": [
    "for i in range(len(data)):\n",
    "    celular = data.loc[i,'Celular'].astype(str) # Convertir a string para que se añada al mensaje\n",
    "    nombre = data.loc[i,'Nombre']\n",
    "    producto = data.loc[i,'Producto']\n",
    "    \n",
    "    # Crear mensaje personalizado\n",
    "    mensaje = \"Hola, \" + nombre + \"! atencion al siguiente comunicado. \" + producto\n",
    "    \n",
    "    # Abrir una nueva pestaña para entrar a WhatsApp Web\n",
    "    # Opción 1: Si te abre WhastApp Web directamente en Google Chrome\n",
    "#     web.open(\"https://web.whatsapp.com/send?phone=\" + celular + \"&text=\" + mensaje)\n",
    "    \n",
    "    # Opción 2: Si te abre WhastApp Web en Microsoft Edge, especificar que lo abra en Chrome\n",
    "    chrome_path = 'C:/Program Files/Google/Chrome/Application/chrome.exe %s'\n",
    "    web.get(chrome_path).open(\"https://web.whatsapp.com/send?phone=\" + celular + \"&text=\" + mensaje)\n",
    "    \n",
    "    time.sleep(8)           # Esperar 8 segundos a que cargue\n",
    "    pg.click(1230,964)      # Hacer click en la caja de texto\n",
    "    time.sleep(2)           # Esperar 2 segundos \n",
    "    \n",
    "    pg.press('enter')       # Enviar mensaje \n",
    "    time.sleep(3)           # Esperar 3 segundos a que se envíe el mensaje\n",
    "    pg.hotkey('ctrl', 'w')  # Cerrar la pestaña\n",
    "    time.sleep(2)"
   ]
  },
  {
   "cell_type": "code",
   "execution_count": 11,
   "metadata": {},
   "outputs": [
    {
     "data": {
      "text/plain": [
       "True"
      ]
     },
     "execution_count": 11,
     "metadata": {},
     "output_type": "execute_result"
    }
   ],
   "source": [
    "web.open(\"https://web.whatsapp.com/send?phone=51910922963\")"
   ]
  }
 ],
 "metadata": {
  "kernelspec": {
   "display_name": "Python 3",
   "language": "python",
   "name": "python3"
  },
  "language_info": {
   "codemirror_mode": {
    "name": "ipython",
    "version": 3
   },
   "file_extension": ".py",
   "mimetype": "text/x-python",
   "name": "python",
   "nbconvert_exporter": "python",
   "pygments_lexer": "ipython3",
   "version": "3.11.4"
  }
 },
 "nbformat": 4,
 "nbformat_minor": 2
}
